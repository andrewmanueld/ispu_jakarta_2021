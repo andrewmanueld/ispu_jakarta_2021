{
 "cells": [
  {
   "cell_type": "markdown",
   "metadata": {},
   "source": [
    "## Exploratory Data Analysis Indeks Standar Pencemaran Udara DKI Jakarta Januari-Juli 2021\n",
    "Notebook ini akan mengulas fenomena ISPU di DKI Jakarta pada periode Januari-Juli 2021. Data dapat diunduh melalui situs [Jakarta Open Data](https://data.jakarta.go.id/dataset/indeks-standar-pencemaran-udara-ispu-tahun-2021)"
   ]
  },
  {
   "cell_type": "markdown",
   "metadata": {},
   "source": [
    "#### Import library yang diperlukan"
   ]
  },
  {
   "cell_type": "code",
   "execution_count": 2,
   "metadata": {},
   "outputs": [],
   "source": [
    "import os \n",
    "import pandas as pd \n",
    "import matplotlib.pyplot as plt \n",
    "import seaborn as sns\n",
    "import warnings \n",
    "\n",
    "sns.set()\n",
    "\n",
    "warnings.filterwarnings('ignore')"
   ]
  },
  {
   "cell_type": "markdown",
   "metadata": {},
   "source": [
    "#### Periksa dataset yang ada dalam folder __Dataset__"
   ]
  },
  {
   "cell_type": "code",
   "execution_count": 3,
   "metadata": {},
   "outputs": [
    {
     "data": {
      "text/plain": [
       "['indeks-standar-pencemar-udara-di-provinsi-dki-jakarta-bulan-april-tahun-2021.csv',\n",
       " 'indeks-standar-pencemar-udara-di-provinsi-dki-jakarta-bulan-februari-tahun-2021.csv',\n",
       " 'indeks-standar-pencemar-udara-di-provinsi-dki-jakarta-bulan-januari-tahun-2021.csv',\n",
       " 'indeks-standar-pencemar-udara-di-provinsi-dki-jakarta-bulan-juli-tahun-2021.csv',\n",
       " 'indeks-standar-pencemar-udara-di-provinsi-dki-jakarta-bulan-juni-tahun-2021.csv',\n",
       " 'indeks-standar-pencemar-udara-di-provinsi-dki-jakarta-bulan-maret-tahun-2021.csv',\n",
       " 'indeks-standar-pencemar-udara-di-provinsi-dki-jakarta-bulan-mei-tahun-2021.csv']"
      ]
     },
     "execution_count": 3,
     "metadata": {},
     "output_type": "execute_result"
    }
   ],
   "source": [
    "os.listdir('./Dataset')"
   ]
  },
  {
   "cell_type": "markdown",
   "metadata": {},
   "source": [
    "#### Tampilkan salah satu file dataset sebagai contoh"
   ]
  },
  {
   "cell_type": "code",
   "execution_count": 4,
   "metadata": {},
   "outputs": [
    {
     "data": {
      "text/html": [
       "<div>\n",
       "<style scoped>\n",
       "    .dataframe tbody tr th:only-of-type {\n",
       "        vertical-align: middle;\n",
       "    }\n",
       "\n",
       "    .dataframe tbody tr th {\n",
       "        vertical-align: top;\n",
       "    }\n",
       "\n",
       "    .dataframe thead th {\n",
       "        text-align: right;\n",
       "    }\n",
       "</style>\n",
       "<table border=\"1\" class=\"dataframe\">\n",
       "  <thead>\n",
       "    <tr style=\"text-align: right;\">\n",
       "      <th></th>\n",
       "      <th>tanggal</th>\n",
       "      <th>pm10</th>\n",
       "      <th>pm25</th>\n",
       "      <th>so2</th>\n",
       "      <th>co</th>\n",
       "      <th>o3</th>\n",
       "      <th>no2</th>\n",
       "      <th>max</th>\n",
       "      <th>critical</th>\n",
       "      <th>categori</th>\n",
       "      <th>location</th>\n",
       "    </tr>\n",
       "  </thead>\n",
       "  <tbody>\n",
       "    <tr>\n",
       "      <th>0</th>\n",
       "      <td>2021-03-01</td>\n",
       "      <td>62</td>\n",
       "      <td>97</td>\n",
       "      <td>45</td>\n",
       "      <td>13</td>\n",
       "      <td>38</td>\n",
       "      <td>18</td>\n",
       "      <td>97</td>\n",
       "      <td>PM25</td>\n",
       "      <td>SEDANG</td>\n",
       "      <td>DKI3</td>\n",
       "    </tr>\n",
       "    <tr>\n",
       "      <th>1</th>\n",
       "      <td>2021-03-02</td>\n",
       "      <td>55</td>\n",
       "      <td>81</td>\n",
       "      <td>50</td>\n",
       "      <td>17</td>\n",
       "      <td>53</td>\n",
       "      <td>28</td>\n",
       "      <td>81</td>\n",
       "      <td>PM25</td>\n",
       "      <td>SEDANG</td>\n",
       "      <td>DKI4</td>\n",
       "    </tr>\n",
       "    <tr>\n",
       "      <th>2</th>\n",
       "      <td>2021-03-03</td>\n",
       "      <td>59</td>\n",
       "      <td>83</td>\n",
       "      <td>46</td>\n",
       "      <td>21</td>\n",
       "      <td>50</td>\n",
       "      <td>35</td>\n",
       "      <td>83</td>\n",
       "      <td>PM25</td>\n",
       "      <td>SEDANG</td>\n",
       "      <td>DKI3</td>\n",
       "    </tr>\n",
       "    <tr>\n",
       "      <th>3</th>\n",
       "      <td>2021-03-04</td>\n",
       "      <td>62</td>\n",
       "      <td>103</td>\n",
       "      <td>45</td>\n",
       "      <td>19</td>\n",
       "      <td>49</td>\n",
       "      <td>31</td>\n",
       "      <td>103</td>\n",
       "      <td>PM25</td>\n",
       "      <td>TIDAK SEHAT</td>\n",
       "      <td>DKI4</td>\n",
       "    </tr>\n",
       "    <tr>\n",
       "      <th>4</th>\n",
       "      <td>2021-03-05</td>\n",
       "      <td>65</td>\n",
       "      <td>81</td>\n",
       "      <td>54</td>\n",
       "      <td>16</td>\n",
       "      <td>59</td>\n",
       "      <td>30</td>\n",
       "      <td>81</td>\n",
       "      <td>PM25</td>\n",
       "      <td>SEDANG</td>\n",
       "      <td>DKI2</td>\n",
       "    </tr>\n",
       "  </tbody>\n",
       "</table>\n",
       "</div>"
      ],
      "text/plain": [
       "      tanggal  pm10  pm25  so2  co  o3  no2  max critical     categori  \\\n",
       "0  2021-03-01    62    97   45  13  38   18   97     PM25       SEDANG   \n",
       "1  2021-03-02    55    81   50  17  53   28   81     PM25       SEDANG   \n",
       "2  2021-03-03    59    83   46  21  50   35   83     PM25       SEDANG   \n",
       "3  2021-03-04    62   103   45  19  49   31  103     PM25  TIDAK SEHAT   \n",
       "4  2021-03-05    65    81   54  16  59   30   81     PM25       SEDANG   \n",
       "\n",
       "  location  \n",
       "0     DKI3  \n",
       "1     DKI4  \n",
       "2     DKI3  \n",
       "3     DKI4  \n",
       "4     DKI2  "
      ]
     },
     "execution_count": 4,
     "metadata": {},
     "output_type": "execute_result"
    }
   ],
   "source": [
    "df_sample = pd.read_csv('./Dataset/indeks-standar-pencemar-udara-di-provinsi-dki-jakarta-bulan-maret-tahun-2021.csv')\n",
    "\n",
    "df_sample.head()"
   ]
  },
  {
   "cell_type": "markdown",
   "metadata": {},
   "source": [
    "#### Gabungkan seluruh dataset"
   ]
  },
  {
   "cell_type": "code",
   "execution_count": 5,
   "metadata": {},
   "outputs": [],
   "source": [
    "df = pd.DataFrame()\n",
    "\n",
    "for dataset in os.listdir('./Dataset'):\n",
    "    temp = pd.read_csv(f'./Dataset/{dataset}')\n",
    "\n",
    "    df = pd.concat([df, temp], sort=False)"
   ]
  },
  {
   "cell_type": "markdown",
   "metadata": {},
   "source": [
    "#### Mengurutkan data berdasarkan tanggal"
   ]
  },
  {
   "cell_type": "code",
   "execution_count": 6,
   "metadata": {},
   "outputs": [],
   "source": [
    "df = df.sort_values(by='tanggal')"
   ]
  },
  {
   "cell_type": "markdown",
   "metadata": {},
   "source": [
    "#### 5 data teratas"
   ]
  },
  {
   "cell_type": "code",
   "execution_count": 7,
   "metadata": {},
   "outputs": [
    {
     "data": {
      "text/html": [
       "<div>\n",
       "<style scoped>\n",
       "    .dataframe tbody tr th:only-of-type {\n",
       "        vertical-align: middle;\n",
       "    }\n",
       "\n",
       "    .dataframe tbody tr th {\n",
       "        vertical-align: top;\n",
       "    }\n",
       "\n",
       "    .dataframe thead th {\n",
       "        text-align: right;\n",
       "    }\n",
       "</style>\n",
       "<table border=\"1\" class=\"dataframe\">\n",
       "  <thead>\n",
       "    <tr style=\"text-align: right;\">\n",
       "      <th></th>\n",
       "      <th>tanggal</th>\n",
       "      <th>pm10</th>\n",
       "      <th>pm25</th>\n",
       "      <th>so2</th>\n",
       "      <th>co</th>\n",
       "      <th>o3</th>\n",
       "      <th>no2</th>\n",
       "      <th>max</th>\n",
       "      <th>critical</th>\n",
       "      <th>categori</th>\n",
       "      <th>location</th>\n",
       "    </tr>\n",
       "  </thead>\n",
       "  <tbody>\n",
       "    <tr>\n",
       "      <th>0</th>\n",
       "      <td>2021-01-01</td>\n",
       "      <td>43</td>\n",
       "      <td>NaN</td>\n",
       "      <td>58</td>\n",
       "      <td>29</td>\n",
       "      <td>35</td>\n",
       "      <td>65</td>\n",
       "      <td>65</td>\n",
       "      <td>O3</td>\n",
       "      <td>SEDANG</td>\n",
       "      <td>DKI2</td>\n",
       "    </tr>\n",
       "    <tr>\n",
       "      <th>1</th>\n",
       "      <td>2021-01-02</td>\n",
       "      <td>58</td>\n",
       "      <td>NaN</td>\n",
       "      <td>86</td>\n",
       "      <td>38</td>\n",
       "      <td>64</td>\n",
       "      <td>80</td>\n",
       "      <td>86</td>\n",
       "      <td>PM25</td>\n",
       "      <td>SEDANG</td>\n",
       "      <td>DKI3</td>\n",
       "    </tr>\n",
       "    <tr>\n",
       "      <th>2</th>\n",
       "      <td>2021-01-03</td>\n",
       "      <td>64</td>\n",
       "      <td>NaN</td>\n",
       "      <td>93</td>\n",
       "      <td>25</td>\n",
       "      <td>62</td>\n",
       "      <td>86</td>\n",
       "      <td>93</td>\n",
       "      <td>PM25</td>\n",
       "      <td>SEDANG</td>\n",
       "      <td>DKI3</td>\n",
       "    </tr>\n",
       "    <tr>\n",
       "      <th>3</th>\n",
       "      <td>2021-01-04</td>\n",
       "      <td>50</td>\n",
       "      <td>NaN</td>\n",
       "      <td>67</td>\n",
       "      <td>24</td>\n",
       "      <td>31</td>\n",
       "      <td>77</td>\n",
       "      <td>77</td>\n",
       "      <td>O3</td>\n",
       "      <td>SEDANG</td>\n",
       "      <td>DKI2</td>\n",
       "    </tr>\n",
       "    <tr>\n",
       "      <th>4</th>\n",
       "      <td>2021-01-05</td>\n",
       "      <td>59</td>\n",
       "      <td>NaN</td>\n",
       "      <td>89</td>\n",
       "      <td>24</td>\n",
       "      <td>35</td>\n",
       "      <td>77</td>\n",
       "      <td>89</td>\n",
       "      <td>PM25</td>\n",
       "      <td>SEDANG</td>\n",
       "      <td>DKI3</td>\n",
       "    </tr>\n",
       "  </tbody>\n",
       "</table>\n",
       "</div>"
      ],
      "text/plain": [
       "      tanggal  pm10  pm25  so2  co  o3  no2  max critical categori location\n",
       "0  2021-01-01    43   NaN   58  29  35   65   65       O3   SEDANG     DKI2\n",
       "1  2021-01-02    58   NaN   86  38  64   80   86     PM25   SEDANG     DKI3\n",
       "2  2021-01-03    64   NaN   93  25  62   86   93     PM25   SEDANG     DKI3\n",
       "3  2021-01-04    50   NaN   67  24  31   77   77       O3   SEDANG     DKI2\n",
       "4  2021-01-05    59   NaN   89  24  35   77   89     PM25   SEDANG     DKI3"
      ]
     },
     "execution_count": 7,
     "metadata": {},
     "output_type": "execute_result"
    }
   ],
   "source": [
    "df.head()"
   ]
  },
  {
   "cell_type": "markdown",
   "metadata": {},
   "source": [
    "#### 5 data terbawah"
   ]
  },
  {
   "cell_type": "code",
   "execution_count": 8,
   "metadata": {},
   "outputs": [
    {
     "data": {
      "text/html": [
       "<div>\n",
       "<style scoped>\n",
       "    .dataframe tbody tr th:only-of-type {\n",
       "        vertical-align: middle;\n",
       "    }\n",
       "\n",
       "    .dataframe tbody tr th {\n",
       "        vertical-align: top;\n",
       "    }\n",
       "\n",
       "    .dataframe thead th {\n",
       "        text-align: right;\n",
       "    }\n",
       "</style>\n",
       "<table border=\"1\" class=\"dataframe\">\n",
       "  <thead>\n",
       "    <tr style=\"text-align: right;\">\n",
       "      <th></th>\n",
       "      <th>tanggal</th>\n",
       "      <th>pm10</th>\n",
       "      <th>pm25</th>\n",
       "      <th>so2</th>\n",
       "      <th>co</th>\n",
       "      <th>o3</th>\n",
       "      <th>no2</th>\n",
       "      <th>max</th>\n",
       "      <th>critical</th>\n",
       "      <th>categori</th>\n",
       "      <th>location</th>\n",
       "    </tr>\n",
       "  </thead>\n",
       "  <tbody>\n",
       "    <tr>\n",
       "      <th>26</th>\n",
       "      <td>2021-07-27</td>\n",
       "      <td>82</td>\n",
       "      <td>140.0</td>\n",
       "      <td>56</td>\n",
       "      <td>13</td>\n",
       "      <td>41</td>\n",
       "      <td>35</td>\n",
       "      <td>140</td>\n",
       "      <td>PM25</td>\n",
       "      <td>TIDAK SEHAT</td>\n",
       "      <td>DKI4</td>\n",
       "    </tr>\n",
       "    <tr>\n",
       "      <th>27</th>\n",
       "      <td>2021-07-28</td>\n",
       "      <td>82</td>\n",
       "      <td>145.0</td>\n",
       "      <td>53</td>\n",
       "      <td>18</td>\n",
       "      <td>40</td>\n",
       "      <td>45</td>\n",
       "      <td>145</td>\n",
       "      <td>PM25</td>\n",
       "      <td>TIDAK SEHAT</td>\n",
       "      <td>DKI4</td>\n",
       "    </tr>\n",
       "    <tr>\n",
       "      <th>28</th>\n",
       "      <td>2021-07-29</td>\n",
       "      <td>78</td>\n",
       "      <td>140.0</td>\n",
       "      <td>52</td>\n",
       "      <td>18</td>\n",
       "      <td>53</td>\n",
       "      <td>39</td>\n",
       "      <td>140</td>\n",
       "      <td>PM25</td>\n",
       "      <td>TIDAK SEHAT</td>\n",
       "      <td>DKI5</td>\n",
       "    </tr>\n",
       "    <tr>\n",
       "      <th>29</th>\n",
       "      <td>2021-07-30</td>\n",
       "      <td>90</td>\n",
       "      <td>154.0</td>\n",
       "      <td>54</td>\n",
       "      <td>15</td>\n",
       "      <td>81</td>\n",
       "      <td>35</td>\n",
       "      <td>154</td>\n",
       "      <td>PM25</td>\n",
       "      <td>TIDAK SEHAT</td>\n",
       "      <td>DKI4</td>\n",
       "    </tr>\n",
       "    <tr>\n",
       "      <th>30</th>\n",
       "      <td>2021-07-31</td>\n",
       "      <td>63</td>\n",
       "      <td>100.0</td>\n",
       "      <td>50</td>\n",
       "      <td>18</td>\n",
       "      <td>65</td>\n",
       "      <td>29</td>\n",
       "      <td>100</td>\n",
       "      <td>PM26</td>\n",
       "      <td>SEDANG</td>\n",
       "      <td>DKI4</td>\n",
       "    </tr>\n",
       "  </tbody>\n",
       "</table>\n",
       "</div>"
      ],
      "text/plain": [
       "       tanggal  pm10   pm25  so2  co  o3  no2  max critical     categori  \\\n",
       "26  2021-07-27    82  140.0   56  13  41   35  140     PM25  TIDAK SEHAT   \n",
       "27  2021-07-28    82  145.0   53  18  40   45  145     PM25  TIDAK SEHAT   \n",
       "28  2021-07-29    78  140.0   52  18  53   39  140     PM25  TIDAK SEHAT   \n",
       "29  2021-07-30    90  154.0   54  15  81   35  154     PM25  TIDAK SEHAT   \n",
       "30  2021-07-31    63  100.0   50  18  65   29  100     PM26       SEDANG   \n",
       "\n",
       "   location  \n",
       "26     DKI4  \n",
       "27     DKI4  \n",
       "28     DKI5  \n",
       "29     DKI4  \n",
       "30     DKI4  "
      ]
     },
     "execution_count": 8,
     "metadata": {},
     "output_type": "execute_result"
    }
   ],
   "source": [
    "df.tail()"
   ]
  },
  {
   "cell_type": "code",
   "execution_count": 9,
   "metadata": {},
   "outputs": [
    {
     "data": {
      "text/plain": [
       "(212, 11)"
      ]
     },
     "execution_count": 9,
     "metadata": {},
     "output_type": "execute_result"
    }
   ],
   "source": [
    "df.shape"
   ]
  },
  {
   "cell_type": "code",
   "execution_count": 10,
   "metadata": {},
   "outputs": [
    {
     "name": "stdout",
     "output_type": "stream",
     "text": [
      "<class 'pandas.core.frame.DataFrame'>\n",
      "Int64Index: 212 entries, 0 to 30\n",
      "Data columns (total 11 columns):\n",
      " #   Column    Non-Null Count  Dtype  \n",
      "---  ------    --------------  -----  \n",
      " 0   tanggal   212 non-null    object \n",
      " 1   pm10      212 non-null    int64  \n",
      " 2   pm25      181 non-null    float64\n",
      " 3   so2       212 non-null    int64  \n",
      " 4   co        212 non-null    int64  \n",
      " 5   o3        212 non-null    int64  \n",
      " 6   no2       212 non-null    int64  \n",
      " 7   max       212 non-null    int64  \n",
      " 8   critical  212 non-null    object \n",
      " 9   categori  212 non-null    object \n",
      " 10  location  212 non-null    object \n",
      "dtypes: float64(1), int64(6), object(4)\n",
      "memory usage: 19.9+ KB\n"
     ]
    }
   ],
   "source": [
    "df.info()"
   ]
  },
  {
   "cell_type": "markdown",
   "metadata": {},
   "source": [
    "#### Parse tanggal kedalam tipe datetime"
   ]
  },
  {
   "cell_type": "code",
   "execution_count": 11,
   "metadata": {},
   "outputs": [],
   "source": [
    "df.tanggal = pd.to_datetime(df.tanggal)"
   ]
  },
  {
   "cell_type": "markdown",
   "metadata": {},
   "source": [
    "#### Periksa apakah ada data yang duplikat"
   ]
  },
  {
   "cell_type": "code",
   "execution_count": 12,
   "metadata": {},
   "outputs": [
    {
     "data": {
      "text/html": [
       "<div>\n",
       "<style scoped>\n",
       "    .dataframe tbody tr th:only-of-type {\n",
       "        vertical-align: middle;\n",
       "    }\n",
       "\n",
       "    .dataframe tbody tr th {\n",
       "        vertical-align: top;\n",
       "    }\n",
       "\n",
       "    .dataframe thead th {\n",
       "        text-align: right;\n",
       "    }\n",
       "</style>\n",
       "<table border=\"1\" class=\"dataframe\">\n",
       "  <thead>\n",
       "    <tr style=\"text-align: right;\">\n",
       "      <th></th>\n",
       "      <th>tanggal</th>\n",
       "      <th>pm10</th>\n",
       "      <th>pm25</th>\n",
       "      <th>so2</th>\n",
       "      <th>co</th>\n",
       "      <th>o3</th>\n",
       "      <th>no2</th>\n",
       "      <th>max</th>\n",
       "      <th>critical</th>\n",
       "      <th>categori</th>\n",
       "      <th>location</th>\n",
       "    </tr>\n",
       "  </thead>\n",
       "  <tbody>\n",
       "  </tbody>\n",
       "</table>\n",
       "</div>"
      ],
      "text/plain": [
       "Empty DataFrame\n",
       "Columns: [tanggal, pm10, pm25, so2, co, o3, no2, max, critical, categori, location]\n",
       "Index: []"
      ]
     },
     "execution_count": 12,
     "metadata": {},
     "output_type": "execute_result"
    }
   ],
   "source": [
    "df[df.duplicated() == True]"
   ]
  },
  {
   "cell_type": "code",
   "execution_count": 13,
   "metadata": {},
   "outputs": [
    {
     "name": "stdout",
     "output_type": "stream",
     "text": [
      "<class 'pandas.core.frame.DataFrame'>\n",
      "Int64Index: 212 entries, 0 to 30\n",
      "Data columns (total 11 columns):\n",
      " #   Column    Non-Null Count  Dtype         \n",
      "---  ------    --------------  -----         \n",
      " 0   tanggal   212 non-null    datetime64[ns]\n",
      " 1   pm10      212 non-null    int64         \n",
      " 2   pm25      181 non-null    float64       \n",
      " 3   so2       212 non-null    int64         \n",
      " 4   co        212 non-null    int64         \n",
      " 5   o3        212 non-null    int64         \n",
      " 6   no2       212 non-null    int64         \n",
      " 7   max       212 non-null    int64         \n",
      " 8   critical  212 non-null    object        \n",
      " 9   categori  212 non-null    object        \n",
      " 10  location  212 non-null    object        \n",
      "dtypes: datetime64[ns](1), float64(1), int64(6), object(3)\n",
      "memory usage: 19.9+ KB\n"
     ]
    }
   ],
   "source": [
    "df.info()"
   ]
  },
  {
   "cell_type": "markdown",
   "metadata": {},
   "source": [
    "#### Missing value\n",
    "Sebagian besar kolom memiliki jumlah baris data 212, sedangkan pada kolom pm25 hanya 181. Hal tersebut menandakan bahwa terdapat data yang hilang. Ketimbang melakukan drop pada kolom tersebut, missing value lebih baik digantikan dengan nilai rata-rata pm25"
   ]
  },
  {
   "cell_type": "code",
   "execution_count": 14,
   "metadata": {},
   "outputs": [],
   "source": [
    "df['pm25'] = df['pm25'].fillna(df['pm25'].mean()) "
   ]
  },
  {
   "cell_type": "markdown",
   "metadata": {},
   "source": [
    "#### Unique value pada kolom _critical_"
   ]
  },
  {
   "cell_type": "code",
   "execution_count": 15,
   "metadata": {},
   "outputs": [
    {
     "data": {
      "text/plain": [
       "array(['O3', 'PM25', 'PM10', 'PM26'], dtype=object)"
      ]
     },
     "execution_count": 15,
     "metadata": {},
     "output_type": "execute_result"
    }
   ],
   "source": [
    "df.critical.unique()"
   ]
  },
  {
   "cell_type": "markdown",
   "metadata": {},
   "source": [
    "#### Unique value pada kolom category"
   ]
  },
  {
   "cell_type": "code",
   "execution_count": 16,
   "metadata": {},
   "outputs": [
    {
     "data": {
      "text/plain": [
       "array(['SEDANG', 'TIDAK SEHAT'], dtype=object)"
      ]
     },
     "execution_count": 16,
     "metadata": {},
     "output_type": "execute_result"
    }
   ],
   "source": [
    "df.categori.unique()"
   ]
  },
  {
   "cell_type": "markdown",
   "metadata": {},
   "source": [
    "#### Informasi\n",
    "\n",
    "Berdasarkan Peraturan Menteri Lingkungan Hidup dan Kehutanan Republik Indonesia \n",
    "No P.14/MENLHK/SETJEN/KUM.1/7/2020 tentang Indeks Standar Pencemaran Udara (ISPU)\n",
    "tercantum bahwa ada beberapa parameter seperti: \n",
    "\n",
    "<table>\n",
    "    <tr>\n",
    "        <td>Parameter</td>\n",
    "        <td>Simbol</td>\n",
    "    </tr>\n",
    "    <tr>\n",
    "        <td>Partikulat</td>\n",
    "        <td>PM<sub>10</sub></td>\n",
    "    </tr>\n",
    "    <tr>\n",
    "        <td>Partikulat</td>\n",
    "        <td>PM<sub>2.5</sub></td>\n",
    "    </tr>\n",
    "    <tr>\n",
    "        <td>Karbon Monoksida</td>\n",
    "        <td>CO</td>\n",
    "    </tr>\n",
    "    <tr>\n",
    "        <td>Nitrogen Dioksida</td>\n",
    "        <td>NO<sub>2</sub></td>\n",
    "    </tr>\n",
    "    <tr>\n",
    "        <td>Sulfur Dioksida</td>\n",
    "        <td>SO<sub>2</sub></td>\n",
    "    </tr>\n",
    "    <tr>\n",
    "        <td>Ozon</td>\n",
    "        <td>O<sub>3</sub></td>\n",
    "    </tr>\n",
    "     <tr>\n",
    "        <td>Hidrokarbon</td>\n",
    "        <td>HC</td>\n",
    "    </tr>\n",
    "</table>\n",
    "\n",
    "Polutan dapat dikelompokkan dalam angka rentang ISPU sebagai berikut:\n",
    "\n",
    "<table>\n",
    "    <tr>\n",
    "        <th>Kategori</th>\n",
    "        <th>Angka Rentang</th>\n",
    "    </tr>\n",
    "    <tr>\n",
    "        <td>Baik</td>\n",
    "        <td>1-50</td>\n",
    "    </tr>\n",
    "    <tr>\n",
    "        <td>Sedang</td>\n",
    "        <td>51-100</td>\n",
    "    </tr>\n",
    "    <tr>\n",
    "        <td>Tidak Sehat</td>\n",
    "        <td>101-200</td>\n",
    "    </tr>\n",
    "    <tr>\n",
    "        <td>Sangat Tidak Sehat</td>\n",
    "        <td>201-300</td>\n",
    "    </tr>\n",
    "    <tr>\n",
    "        <td>Berbahaya</td>\n",
    "        <td>301 >=</td>\n",
    "    </tr>\n",
    "</table>\n",
    "\n",
    "Terdapat nama kolom dataset _pm25_ yang seharusnya _pm2.5_, maka kolom tersebut kita ganti saja menjadi _pm2.5_"
   ]
  },
  {
   "cell_type": "markdown",
   "metadata": {},
   "source": [
    "#### Ubah nama kolom agar sesuai"
   ]
  },
  {
   "cell_type": "code",
   "execution_count": 17,
   "metadata": {},
   "outputs": [],
   "source": [
    "df = df.rename(columns={'pm25': 'pm2.5', 'categori': 'category'})"
   ]
  },
  {
   "cell_type": "markdown",
   "metadata": {},
   "source": [
    "#### Cek kembali data yang diubah tersebut"
   ]
  },
  {
   "cell_type": "code",
   "execution_count": 18,
   "metadata": {},
   "outputs": [
    {
     "data": {
      "text/html": [
       "<div>\n",
       "<style scoped>\n",
       "    .dataframe tbody tr th:only-of-type {\n",
       "        vertical-align: middle;\n",
       "    }\n",
       "\n",
       "    .dataframe tbody tr th {\n",
       "        vertical-align: top;\n",
       "    }\n",
       "\n",
       "    .dataframe thead th {\n",
       "        text-align: right;\n",
       "    }\n",
       "</style>\n",
       "<table border=\"1\" class=\"dataframe\">\n",
       "  <thead>\n",
       "    <tr style=\"text-align: right;\">\n",
       "      <th></th>\n",
       "      <th>pm10</th>\n",
       "      <th>pm2.5</th>\n",
       "      <th>so2</th>\n",
       "      <th>co</th>\n",
       "      <th>o3</th>\n",
       "      <th>no2</th>\n",
       "      <th>max</th>\n",
       "    </tr>\n",
       "  </thead>\n",
       "  <tbody>\n",
       "    <tr>\n",
       "      <th>count</th>\n",
       "      <td>212.000000</td>\n",
       "      <td>212.000000</td>\n",
       "      <td>212.000000</td>\n",
       "      <td>212.000000</td>\n",
       "      <td>212.000000</td>\n",
       "      <td>212.000000</td>\n",
       "      <td>212.000000</td>\n",
       "    </tr>\n",
       "    <tr>\n",
       "      <th>mean</th>\n",
       "      <td>61.084906</td>\n",
       "      <td>96.646409</td>\n",
       "      <td>52.518868</td>\n",
       "      <td>16.825472</td>\n",
       "      <td>51.594340</td>\n",
       "      <td>36.481132</td>\n",
       "      <td>94.575472</td>\n",
       "    </tr>\n",
       "    <tr>\n",
       "      <th>std</th>\n",
       "      <td>15.014444</td>\n",
       "      <td>24.320468</td>\n",
       "      <td>12.761562</td>\n",
       "      <td>6.077128</td>\n",
       "      <td>13.091568</td>\n",
       "      <td>18.765821</td>\n",
       "      <td>26.127811</td>\n",
       "    </tr>\n",
       "    <tr>\n",
       "      <th>min</th>\n",
       "      <td>24.000000</td>\n",
       "      <td>44.000000</td>\n",
       "      <td>37.000000</td>\n",
       "      <td>8.000000</td>\n",
       "      <td>20.000000</td>\n",
       "      <td>13.000000</td>\n",
       "      <td>51.000000</td>\n",
       "    </tr>\n",
       "    <tr>\n",
       "      <th>25%</th>\n",
       "      <td>53.750000</td>\n",
       "      <td>81.750000</td>\n",
       "      <td>43.000000</td>\n",
       "      <td>12.750000</td>\n",
       "      <td>42.000000</td>\n",
       "      <td>24.000000</td>\n",
       "      <td>75.000000</td>\n",
       "    </tr>\n",
       "    <tr>\n",
       "      <th>50%</th>\n",
       "      <td>63.000000</td>\n",
       "      <td>96.646409</td>\n",
       "      <td>52.000000</td>\n",
       "      <td>16.000000</td>\n",
       "      <td>51.000000</td>\n",
       "      <td>31.000000</td>\n",
       "      <td>93.000000</td>\n",
       "    </tr>\n",
       "    <tr>\n",
       "      <th>75%</th>\n",
       "      <td>69.250000</td>\n",
       "      <td>108.000000</td>\n",
       "      <td>55.000000</td>\n",
       "      <td>20.000000</td>\n",
       "      <td>59.000000</td>\n",
       "      <td>41.000000</td>\n",
       "      <td>108.250000</td>\n",
       "    </tr>\n",
       "    <tr>\n",
       "      <th>max</th>\n",
       "      <td>95.000000</td>\n",
       "      <td>174.000000</td>\n",
       "      <td>126.000000</td>\n",
       "      <td>47.000000</td>\n",
       "      <td>151.000000</td>\n",
       "      <td>134.000000</td>\n",
       "      <td>174.000000</td>\n",
       "    </tr>\n",
       "  </tbody>\n",
       "</table>\n",
       "</div>"
      ],
      "text/plain": [
       "             pm10       pm2.5         so2          co          o3         no2  \\\n",
       "count  212.000000  212.000000  212.000000  212.000000  212.000000  212.000000   \n",
       "mean    61.084906   96.646409   52.518868   16.825472   51.594340   36.481132   \n",
       "std     15.014444   24.320468   12.761562    6.077128   13.091568   18.765821   \n",
       "min     24.000000   44.000000   37.000000    8.000000   20.000000   13.000000   \n",
       "25%     53.750000   81.750000   43.000000   12.750000   42.000000   24.000000   \n",
       "50%     63.000000   96.646409   52.000000   16.000000   51.000000   31.000000   \n",
       "75%     69.250000  108.000000   55.000000   20.000000   59.000000   41.000000   \n",
       "max     95.000000  174.000000  126.000000   47.000000  151.000000  134.000000   \n",
       "\n",
       "              max  \n",
       "count  212.000000  \n",
       "mean    94.575472  \n",
       "std     26.127811  \n",
       "min     51.000000  \n",
       "25%     75.000000  \n",
       "50%     93.000000  \n",
       "75%    108.250000  \n",
       "max    174.000000  "
      ]
     },
     "execution_count": 18,
     "metadata": {},
     "output_type": "execute_result"
    }
   ],
   "source": [
    "df.describe()"
   ]
  },
  {
   "cell_type": "markdown",
   "metadata": {},
   "source": [
    "#### Unique value pada kolom location"
   ]
  },
  {
   "cell_type": "code",
   "execution_count": 19,
   "metadata": {},
   "outputs": [
    {
     "data": {
      "text/plain": [
       "array(['DKI2', 'DKI3', 'DKI5', 'DKI4'], dtype=object)"
      ]
     },
     "execution_count": 19,
     "metadata": {},
     "output_type": "execute_result"
    }
   ],
   "source": [
    "df.location.unique()"
   ]
  },
  {
   "cell_type": "code",
   "execution_count": 20,
   "metadata": {},
   "outputs": [
    {
     "data": {
      "text/html": [
       "<div>\n",
       "<style scoped>\n",
       "    .dataframe tbody tr th:only-of-type {\n",
       "        vertical-align: middle;\n",
       "    }\n",
       "\n",
       "    .dataframe tbody tr th {\n",
       "        vertical-align: top;\n",
       "    }\n",
       "\n",
       "    .dataframe thead th {\n",
       "        text-align: right;\n",
       "    }\n",
       "</style>\n",
       "<table border=\"1\" class=\"dataframe\">\n",
       "  <thead>\n",
       "    <tr style=\"text-align: right;\">\n",
       "      <th></th>\n",
       "      <th>tanggal</th>\n",
       "      <th>pm10</th>\n",
       "      <th>pm2.5</th>\n",
       "      <th>so2</th>\n",
       "      <th>co</th>\n",
       "      <th>o3</th>\n",
       "      <th>no2</th>\n",
       "      <th>max</th>\n",
       "      <th>critical</th>\n",
       "      <th>category</th>\n",
       "      <th>location</th>\n",
       "    </tr>\n",
       "  </thead>\n",
       "  <tbody>\n",
       "    <tr>\n",
       "      <th>30</th>\n",
       "      <td>2021-07-31</td>\n",
       "      <td>63</td>\n",
       "      <td>100.0</td>\n",
       "      <td>50</td>\n",
       "      <td>18</td>\n",
       "      <td>65</td>\n",
       "      <td>29</td>\n",
       "      <td>100</td>\n",
       "      <td>PM26</td>\n",
       "      <td>SEDANG</td>\n",
       "      <td>DKI4</td>\n",
       "    </tr>\n",
       "  </tbody>\n",
       "</table>\n",
       "</div>"
      ],
      "text/plain": [
       "      tanggal  pm10  pm2.5  so2  co  o3  no2  max critical category location\n",
       "30 2021-07-31    63  100.0   50  18  65   29  100     PM26   SEDANG     DKI4"
      ]
     },
     "execution_count": 20,
     "metadata": {},
     "output_type": "execute_result"
    }
   ],
   "source": [
    "df[df.critical == 'PM26']"
   ]
  },
  {
   "cell_type": "markdown",
   "metadata": {},
   "source": [
    "Seperti yang terlihat diatas terdapat critical emisi PM26, dimana cemaran tersebut bisa saja merupakan _typo_ yang seharusnya PM2.5. Kita tidak dapat berasumsi karena tidak ada informasi pendukung sehingga baris tersebut lebih baik\n",
    "untuk di drop"
   ]
  },
  {
   "cell_type": "code",
   "execution_count": 21,
   "metadata": {},
   "outputs": [],
   "source": [
    "df = df[df.critical != 'PM26']"
   ]
  },
  {
   "cell_type": "markdown",
   "metadata": {},
   "source": [
    "Terdapat 1 baris yang didrop, sehingga baris berkurang dari 212 menjadi 211"
   ]
  },
  {
   "cell_type": "markdown",
   "metadata": {},
   "source": [
    "#### Dimensi data"
   ]
  },
  {
   "cell_type": "code",
   "execution_count": 22,
   "metadata": {},
   "outputs": [
    {
     "data": {
      "text/plain": [
       "(211, 11)"
      ]
     },
     "execution_count": 22,
     "metadata": {},
     "output_type": "execute_result"
    }
   ],
   "source": [
    "df.shape"
   ]
  },
  {
   "cell_type": "markdown",
   "metadata": {},
   "source": [
    "#### Nilai null"
   ]
  },
  {
   "cell_type": "code",
   "execution_count": 23,
   "metadata": {},
   "outputs": [
    {
     "data": {
      "text/plain": [
       "tanggal     0\n",
       "pm10        0\n",
       "pm2.5       0\n",
       "so2         0\n",
       "co          0\n",
       "o3          0\n",
       "no2         0\n",
       "max         0\n",
       "critical    0\n",
       "category    0\n",
       "location    0\n",
       "dtype: int64"
      ]
     },
     "execution_count": 23,
     "metadata": {},
     "output_type": "execute_result"
    }
   ],
   "source": [
    "df.isnull().sum()"
   ]
  },
  {
   "cell_type": "markdown",
   "metadata": {},
   "source": [
    "#### Korelasi antar variabel"
   ]
  },
  {
   "cell_type": "code",
   "execution_count": 24,
   "metadata": {},
   "outputs": [
    {
     "data": {
      "text/plain": [
       "<AxesSubplot:>"
      ]
     },
     "execution_count": 24,
     "metadata": {},
     "output_type": "execute_result"
    },
    {
     "data": {
      "image/png": "[encoded data removed]",
      "text/plain": [
       "<Figure size 576x432 with 2 Axes>"
      ]
     },
     "metadata": {},
     "output_type": "display_data"
    }
   ],
   "source": [
    "plt.figure(figsize=(8,6))\n",
    "\n",
    "sns.heatmap(df.corr(), annot=True)"
   ]
  },
  {
   "cell_type": "markdown",
   "metadata": {},
   "source": [
    "#### Grafik perubahan data"
   ]
  },
  {
   "cell_type": "code",
   "execution_count": 25,
   "metadata": {},
   "outputs": [
    {
     "data": {
      "text/plain": [
       "<AxesSubplot:xlabel='tanggal'>"
      ]
     },
     "execution_count": 25,
     "metadata": {},
     "output_type": "execute_result"
    },
    {
     "data": {
      "image/png": "[encoded data removed]",
      "text/plain": [
       "<Figure size 432x288 with 1 Axes>"
      ]
     },
     "metadata": {},
     "output_type": "display_data"
    },
    {
     "data": {
      "image/png": "[encoded data removed]",
      "text/plain": [
       "<Figure size 432x288 with 1 Axes>"
      ]
     },
     "metadata": {},
     "output_type": "display_data"
    },
    {
     "data": {
      "image/png": "[encoded data removed]",
      "text/plain": [
       "<Figure size 432x288 with 1 Axes>"
      ]
     },
     "metadata": {},
     "output_type": "display_data"
    },
    {
     "data": {
      "image/png": "[encoded data removed]",
      "text/plain": [
       "<Figure size 432x288 with 1 Axes>"
      ]
     },
     "metadata": {},
     "output_type": "display_data"
    },
    {
     "data": {
      "image/png": "[encoded data removed]",
      "text/plain": [
       "<Figure size 432x288 with 1 Axes>"
      ]
     },
     "metadata": {},
     "output_type": "display_data"
    },
    {
     "data": {
      "image/png": "[encoded data removed]",
      "text/plain": [
       "<Figure size 432x288 with 1 Axes>"
      ]
     },
     "metadata": {},
     "output_type": "display_data"
    }
   ],
   "source": [
    "df_resample = (df.set_index('tanggal')).resample('D').mean().reset_index()\n",
    "\n",
    "df_resample.plot(x='tanggal', y='pm10', kind='line', color='red')\n",
    "df_resample.plot(x='tanggal', y='pm2.5', kind='line', color='orange')\n",
    "df_resample.plot(x='tanggal', y='so2', kind='line', color='green')\n",
    "df_resample.plot(x='tanggal', y='co', kind='line', color='magenta')\n",
    "df_resample.plot(x='tanggal', y='o3', kind='line', color='black')\n",
    "df_resample.plot(x='tanggal', y='no2', kind='line', color='blue')"
   ]
  },
  {
   "cell_type": "markdown",
   "metadata": {},
   "source": [
    "#### Kategori kualitas udara"
   ]
  },
  {
   "cell_type": "code",
   "execution_count": 26,
   "metadata": {},
   "outputs": [
    {
     "data": {
      "image/png": "[encoded data removed]",
      "text/plain": [
       "<Figure size 576x432 with 1 Axes>"
      ]
     },
     "metadata": {},
     "output_type": "display_data"
    }
   ],
   "source": [
    "plt.figure(figsize=(8,6))\n",
    "\n",
    "plt.pie(df.category.value_counts(), labels=df.category.value_counts().index, autopct='%.2f%%')\n",
    "\n",
    "plt.title('Kategori Cemaran udara DKI Jakarta Januari-Juli 2021')\n",
    "plt.legend()\n",
    "plt.show()"
   ]
  },
  {
   "cell_type": "markdown",
   "metadata": {},
   "source": [
    "#### Persentase kota dengan status tidak sehat"
   ]
  },
  {
   "cell_type": "code",
   "execution_count": 27,
   "metadata": {},
   "outputs": [
    {
     "data": {
      "image/png": "[encoded data removed]",
      "text/plain": [
       "<Figure size 576x432 with 1 Axes>"
      ]
     },
     "metadata": {},
     "output_type": "display_data"
    }
   ],
   "source": [
    "plt.figure(figsize=(8,6))\n",
    "\n",
    "df_group = df[df.category == 'TIDAK SEHAT']\n",
    "\n",
    "plt.pie(df.location.value_counts(), labels=df.location.value_counts().index, autopct='%.4f%%')\n",
    "plt.title('Proporsi Kota dengan Status Tidak Sehat DKI Jakarta Januari-Juli 2021')\n",
    "plt.legend()\n",
    "plt.show()"
   ]
  },
  {
   "cell_type": "markdown",
   "metadata": {},
   "source": [
    "#### Sebaran data menurut wilayah"
   ]
  },
  {
   "cell_type": "code",
   "execution_count": 28,
   "metadata": {},
   "outputs": [
    {
     "data": {
      "image/png": "[encoded data removed]",
      "text/plain": [
       "<Figure size 576x432 with 1 Axes>"
      ]
     },
     "metadata": {},
     "output_type": "display_data"
    }
   ],
   "source": [
    "plt.figure(figsize=(8,6))\n",
    "\n",
    "plt.pie(df.location.value_counts(), labels=df.location.value_counts().index, autopct='%.4f%%')\n",
    "plt.title('Sebaran data DKI Jakarta Januari-Juli 2021')\n",
    "plt.legend()\n",
    "plt.show()"
   ]
  },
  {
   "cell_type": "markdown",
   "metadata": {},
   "source": [
    "#### Sebaran polutan"
   ]
  },
  {
   "cell_type": "code",
   "execution_count": 29,
   "metadata": {},
   "outputs": [
    {
     "data": {
      "image/png": "[encoded data removed]",
      "text/plain": [
       "<Figure size 576x432 with 1 Axes>"
      ]
     },
     "metadata": {},
     "output_type": "display_data"
    }
   ],
   "source": [
    "plt.figure(figsize=(8,6))\n",
    "\n",
    "sns.barplot(x=df.critical.value_counts().index, y=df.critical.value_counts())\n",
    "\n",
    "plt.title('Jumlah critical tiap polutan')\n",
    "plt.xlabel('Polutan')\n",
    "plt.ylabel('µg/m3')\n",
    "plt.show()\n"
   ]
  },
  {
   "cell_type": "markdown",
   "metadata": {},
   "source": [
    "#### Agregasi data untuk mendapatkan rerata polutan per daerah"
   ]
  },
  {
   "cell_type": "code",
   "execution_count": 30,
   "metadata": {},
   "outputs": [],
   "source": [
    "df_agg = df.copy()\n",
    "\n",
    "pollutant = ['pm10', 'pm2.5', 'so2', 'co', 'o3', 'no2']\n",
    "\n",
    "df_agg = pd.pivot_table(data=df_agg, index=['location'], values=pollutant, aggfunc='mean').round().reset_index()"
   ]
  },
  {
   "cell_type": "code",
   "execution_count": 31,
   "metadata": {},
   "outputs": [
    {
     "data": {
      "text/html": [
       "<div>\n",
       "<style scoped>\n",
       "    .dataframe tbody tr th:only-of-type {\n",
       "        vertical-align: middle;\n",
       "    }\n",
       "\n",
       "    .dataframe tbody tr th {\n",
       "        vertical-align: top;\n",
       "    }\n",
       "\n",
       "    .dataframe thead th {\n",
       "        text-align: right;\n",
       "    }\n",
       "</style>\n",
       "<table border=\"1\" class=\"dataframe\">\n",
       "  <thead>\n",
       "    <tr style=\"text-align: right;\">\n",
       "      <th></th>\n",
       "      <th>location</th>\n",
       "      <th>co</th>\n",
       "      <th>no2</th>\n",
       "      <th>o3</th>\n",
       "      <th>pm10</th>\n",
       "      <th>pm2.5</th>\n",
       "      <th>so2</th>\n",
       "      <th>category</th>\n",
       "    </tr>\n",
       "  </thead>\n",
       "  <tbody>\n",
       "    <tr>\n",
       "      <th>0</th>\n",
       "      <td>DKI2</td>\n",
       "      <td>19.0</td>\n",
       "      <td>52.0</td>\n",
       "      <td>46.0</td>\n",
       "      <td>51.0</td>\n",
       "      <td>88.0</td>\n",
       "      <td>56.0</td>\n",
       "      <td>SEDANG</td>\n",
       "    </tr>\n",
       "    <tr>\n",
       "      <th>1</th>\n",
       "      <td>DKI3</td>\n",
       "      <td>18.0</td>\n",
       "      <td>37.0</td>\n",
       "      <td>50.0</td>\n",
       "      <td>58.0</td>\n",
       "      <td>86.0</td>\n",
       "      <td>55.0</td>\n",
       "      <td>SEDANG</td>\n",
       "    </tr>\n",
       "    <tr>\n",
       "      <th>2</th>\n",
       "      <td>DKI4</td>\n",
       "      <td>15.0</td>\n",
       "      <td>31.0</td>\n",
       "      <td>55.0</td>\n",
       "      <td>67.0</td>\n",
       "      <td>106.0</td>\n",
       "      <td>51.0</td>\n",
       "      <td>TIDAK SEHAT</td>\n",
       "    </tr>\n",
       "    <tr>\n",
       "      <th>3</th>\n",
       "      <td>DKI5</td>\n",
       "      <td>18.0</td>\n",
       "      <td>33.0</td>\n",
       "      <td>50.0</td>\n",
       "      <td>61.0</td>\n",
       "      <td>93.0</td>\n",
       "      <td>48.0</td>\n",
       "      <td>SEDANG</td>\n",
       "    </tr>\n",
       "  </tbody>\n",
       "</table>\n",
       "</div>"
      ],
      "text/plain": [
       "  location    co   no2    o3  pm10  pm2.5   so2     category\n",
       "0     DKI2  19.0  52.0  46.0  51.0   88.0  56.0       SEDANG\n",
       "1     DKI3  18.0  37.0  50.0  58.0   86.0  55.0       SEDANG\n",
       "2     DKI4  15.0  31.0  55.0  67.0  106.0  51.0  TIDAK SEHAT\n",
       "3     DKI5  18.0  33.0  50.0  61.0   93.0  48.0       SEDANG"
      ]
     },
     "execution_count": 31,
     "metadata": {},
     "output_type": "execute_result"
    }
   ],
   "source": [
    "df_agg['category'] = pd.Series()\n",
    "\n",
    "for index, row in enumerate(df_agg.itertuples()):\n",
    "    temp_treeshold = 0\n",
    "    for cell in row:\n",
    "        if type(cell) == int or type(cell) == float:\n",
    "            if cell > temp_treeshold:\n",
    "                if cell in range(1,50):\n",
    "                    df_agg.category.loc[index] = 'BAIK'\n",
    "                elif cell in range(51,100):\n",
    "                    df_agg.category.loc[index] = 'SEDANG'\n",
    "                elif cell in range(101,200):\n",
    "                    df_agg.category.loc[index] = 'TIDAK SEHAT'\n",
    "                elif cell in range(201,300):\n",
    "                    df_agg.category.loc[index] = 'SANGAT TIDAK SEHAT'\n",
    "                else:\n",
    "                    df_agg.category.loc[index] = 'BERBAHAYA'\n",
    "\n",
    "                temp_treeshold = cell\n",
    "\n",
    "df_agg"
   ]
  },
  {
   "cell_type": "markdown",
   "metadata": {},
   "source": [
    "#### Apakah weekend mempengaruhi status kategori cemaran udara ?"
   ]
  },
  {
   "cell_type": "code",
   "execution_count": 32,
   "metadata": {},
   "outputs": [
    {
     "data": {
      "text/html": [
       "<div>\n",
       "<style scoped>\n",
       "    .dataframe tbody tr th:only-of-type {\n",
       "        vertical-align: middle;\n",
       "    }\n",
       "\n",
       "    .dataframe tbody tr th {\n",
       "        vertical-align: top;\n",
       "    }\n",
       "\n",
       "    .dataframe thead th {\n",
       "        text-align: right;\n",
       "    }\n",
       "</style>\n",
       "<table border=\"1\" class=\"dataframe\">\n",
       "  <thead>\n",
       "    <tr style=\"text-align: right;\">\n",
       "      <th></th>\n",
       "      <th>tanggal</th>\n",
       "      <th>pm10</th>\n",
       "      <th>pm2.5</th>\n",
       "      <th>so2</th>\n",
       "      <th>co</th>\n",
       "      <th>o3</th>\n",
       "      <th>no2</th>\n",
       "      <th>max</th>\n",
       "      <th>critical</th>\n",
       "      <th>category</th>\n",
       "      <th>location</th>\n",
       "      <th>dayweek</th>\n",
       "      <th>weekend</th>\n",
       "    </tr>\n",
       "  </thead>\n",
       "  <tbody>\n",
       "    <tr>\n",
       "      <th>24</th>\n",
       "      <td>2021-01-25</td>\n",
       "      <td>62</td>\n",
       "      <td>96.646409</td>\n",
       "      <td>95</td>\n",
       "      <td>29</td>\n",
       "      <td>67</td>\n",
       "      <td>134</td>\n",
       "      <td>134</td>\n",
       "      <td>O3</td>\n",
       "      <td>TIDAK SEHAT</td>\n",
       "      <td>DKI2</td>\n",
       "      <td>0</td>\n",
       "      <td>False</td>\n",
       "    </tr>\n",
       "    <tr>\n",
       "      <th>26</th>\n",
       "      <td>2021-04-27</td>\n",
       "      <td>75</td>\n",
       "      <td>138.000000</td>\n",
       "      <td>51</td>\n",
       "      <td>12</td>\n",
       "      <td>65</td>\n",
       "      <td>28</td>\n",
       "      <td>138</td>\n",
       "      <td>PM25</td>\n",
       "      <td>TIDAK SEHAT</td>\n",
       "      <td>DKI4</td>\n",
       "      <td>1</td>\n",
       "      <td>False</td>\n",
       "    </tr>\n",
       "    <tr>\n",
       "      <th>6</th>\n",
       "      <td>2021-05-07</td>\n",
       "      <td>67</td>\n",
       "      <td>83.000000</td>\n",
       "      <td>61</td>\n",
       "      <td>26</td>\n",
       "      <td>151</td>\n",
       "      <td>45</td>\n",
       "      <td>151</td>\n",
       "      <td>O3</td>\n",
       "      <td>TIDAK SEHAT</td>\n",
       "      <td>DKI3</td>\n",
       "      <td>4</td>\n",
       "      <td>False</td>\n",
       "    </tr>\n",
       "    <tr>\n",
       "      <th>19</th>\n",
       "      <td>2021-06-20</td>\n",
       "      <td>81</td>\n",
       "      <td>140.000000</td>\n",
       "      <td>66</td>\n",
       "      <td>26</td>\n",
       "      <td>44</td>\n",
       "      <td>58</td>\n",
       "      <td>140</td>\n",
       "      <td>PM25</td>\n",
       "      <td>TIDAK SEHAT</td>\n",
       "      <td>DKI4</td>\n",
       "      <td>6</td>\n",
       "      <td>True</td>\n",
       "    </tr>\n",
       "    <tr>\n",
       "      <th>24</th>\n",
       "      <td>2021-06-25</td>\n",
       "      <td>85</td>\n",
       "      <td>147.000000</td>\n",
       "      <td>58</td>\n",
       "      <td>30</td>\n",
       "      <td>40</td>\n",
       "      <td>63</td>\n",
       "      <td>147</td>\n",
       "      <td>PM25</td>\n",
       "      <td>TIDAK SEHAT</td>\n",
       "      <td>DKI4</td>\n",
       "      <td>4</td>\n",
       "      <td>False</td>\n",
       "    </tr>\n",
       "    <tr>\n",
       "      <th>2</th>\n",
       "      <td>2021-07-03</td>\n",
       "      <td>80</td>\n",
       "      <td>141.000000</td>\n",
       "      <td>54</td>\n",
       "      <td>13</td>\n",
       "      <td>44</td>\n",
       "      <td>27</td>\n",
       "      <td>141</td>\n",
       "      <td>PM25</td>\n",
       "      <td>TIDAK SEHAT</td>\n",
       "      <td>DKI4</td>\n",
       "      <td>5</td>\n",
       "      <td>False</td>\n",
       "    </tr>\n",
       "    <tr>\n",
       "      <th>3</th>\n",
       "      <td>2021-07-04</td>\n",
       "      <td>94</td>\n",
       "      <td>161.000000</td>\n",
       "      <td>51</td>\n",
       "      <td>15</td>\n",
       "      <td>50</td>\n",
       "      <td>25</td>\n",
       "      <td>161</td>\n",
       "      <td>PM25</td>\n",
       "      <td>TIDAK SEHAT</td>\n",
       "      <td>DKI4</td>\n",
       "      <td>6</td>\n",
       "      <td>True</td>\n",
       "    </tr>\n",
       "    <tr>\n",
       "      <th>4</th>\n",
       "      <td>2021-07-05</td>\n",
       "      <td>83</td>\n",
       "      <td>153.000000</td>\n",
       "      <td>56</td>\n",
       "      <td>13</td>\n",
       "      <td>62</td>\n",
       "      <td>26</td>\n",
       "      <td>153</td>\n",
       "      <td>PM25</td>\n",
       "      <td>TIDAK SEHAT</td>\n",
       "      <td>DKI4</td>\n",
       "      <td>0</td>\n",
       "      <td>False</td>\n",
       "    </tr>\n",
       "    <tr>\n",
       "      <th>7</th>\n",
       "      <td>2021-07-08</td>\n",
       "      <td>83</td>\n",
       "      <td>145.000000</td>\n",
       "      <td>56</td>\n",
       "      <td>11</td>\n",
       "      <td>50</td>\n",
       "      <td>26</td>\n",
       "      <td>145</td>\n",
       "      <td>PM25</td>\n",
       "      <td>TIDAK SEHAT</td>\n",
       "      <td>DKI4</td>\n",
       "      <td>3</td>\n",
       "      <td>False</td>\n",
       "    </tr>\n",
       "    <tr>\n",
       "      <th>8</th>\n",
       "      <td>2021-07-09</td>\n",
       "      <td>92</td>\n",
       "      <td>156.000000</td>\n",
       "      <td>59</td>\n",
       "      <td>11</td>\n",
       "      <td>56</td>\n",
       "      <td>26</td>\n",
       "      <td>156</td>\n",
       "      <td>PM25</td>\n",
       "      <td>TIDAK SEHAT</td>\n",
       "      <td>DKI4</td>\n",
       "      <td>4</td>\n",
       "      <td>False</td>\n",
       "    </tr>\n",
       "    <tr>\n",
       "      <th>14</th>\n",
       "      <td>2021-07-15</td>\n",
       "      <td>95</td>\n",
       "      <td>174.000000</td>\n",
       "      <td>62</td>\n",
       "      <td>15</td>\n",
       "      <td>56</td>\n",
       "      <td>30</td>\n",
       "      <td>174</td>\n",
       "      <td>PM25</td>\n",
       "      <td>TIDAK SEHAT</td>\n",
       "      <td>DKI4</td>\n",
       "      <td>3</td>\n",
       "      <td>False</td>\n",
       "    </tr>\n",
       "    <tr>\n",
       "      <th>15</th>\n",
       "      <td>2021-07-16</td>\n",
       "      <td>85</td>\n",
       "      <td>138.000000</td>\n",
       "      <td>53</td>\n",
       "      <td>11</td>\n",
       "      <td>53</td>\n",
       "      <td>29</td>\n",
       "      <td>138</td>\n",
       "      <td>PM25</td>\n",
       "      <td>TIDAK SEHAT</td>\n",
       "      <td>DKI4</td>\n",
       "      <td>4</td>\n",
       "      <td>False</td>\n",
       "    </tr>\n",
       "    <tr>\n",
       "      <th>17</th>\n",
       "      <td>2021-07-18</td>\n",
       "      <td>82</td>\n",
       "      <td>150.000000</td>\n",
       "      <td>55</td>\n",
       "      <td>13</td>\n",
       "      <td>58</td>\n",
       "      <td>27</td>\n",
       "      <td>150</td>\n",
       "      <td>PM25</td>\n",
       "      <td>TIDAK SEHAT</td>\n",
       "      <td>DKI4</td>\n",
       "      <td>6</td>\n",
       "      <td>True</td>\n",
       "    </tr>\n",
       "    <tr>\n",
       "      <th>18</th>\n",
       "      <td>2021-07-19</td>\n",
       "      <td>80</td>\n",
       "      <td>140.000000</td>\n",
       "      <td>51</td>\n",
       "      <td>11</td>\n",
       "      <td>77</td>\n",
       "      <td>28</td>\n",
       "      <td>140</td>\n",
       "      <td>PM25</td>\n",
       "      <td>TIDAK SEHAT</td>\n",
       "      <td>DKI4</td>\n",
       "      <td>0</td>\n",
       "      <td>False</td>\n",
       "    </tr>\n",
       "    <tr>\n",
       "      <th>19</th>\n",
       "      <td>2021-07-20</td>\n",
       "      <td>86</td>\n",
       "      <td>147.000000</td>\n",
       "      <td>51</td>\n",
       "      <td>15</td>\n",
       "      <td>60</td>\n",
       "      <td>24</td>\n",
       "      <td>147</td>\n",
       "      <td>PM25</td>\n",
       "      <td>TIDAK SEHAT</td>\n",
       "      <td>DKI4</td>\n",
       "      <td>1</td>\n",
       "      <td>False</td>\n",
       "    </tr>\n",
       "    <tr>\n",
       "      <th>24</th>\n",
       "      <td>2021-07-25</td>\n",
       "      <td>81</td>\n",
       "      <td>148.000000</td>\n",
       "      <td>55</td>\n",
       "      <td>24</td>\n",
       "      <td>54</td>\n",
       "      <td>42</td>\n",
       "      <td>148</td>\n",
       "      <td>PM25</td>\n",
       "      <td>TIDAK SEHAT</td>\n",
       "      <td>DKI4</td>\n",
       "      <td>6</td>\n",
       "      <td>True</td>\n",
       "    </tr>\n",
       "    <tr>\n",
       "      <th>26</th>\n",
       "      <td>2021-07-27</td>\n",
       "      <td>82</td>\n",
       "      <td>140.000000</td>\n",
       "      <td>56</td>\n",
       "      <td>13</td>\n",
       "      <td>41</td>\n",
       "      <td>35</td>\n",
       "      <td>140</td>\n",
       "      <td>PM25</td>\n",
       "      <td>TIDAK SEHAT</td>\n",
       "      <td>DKI4</td>\n",
       "      <td>1</td>\n",
       "      <td>False</td>\n",
       "    </tr>\n",
       "    <tr>\n",
       "      <th>27</th>\n",
       "      <td>2021-07-28</td>\n",
       "      <td>82</td>\n",
       "      <td>145.000000</td>\n",
       "      <td>53</td>\n",
       "      <td>18</td>\n",
       "      <td>40</td>\n",
       "      <td>45</td>\n",
       "      <td>145</td>\n",
       "      <td>PM25</td>\n",
       "      <td>TIDAK SEHAT</td>\n",
       "      <td>DKI4</td>\n",
       "      <td>2</td>\n",
       "      <td>False</td>\n",
       "    </tr>\n",
       "    <tr>\n",
       "      <th>28</th>\n",
       "      <td>2021-07-29</td>\n",
       "      <td>78</td>\n",
       "      <td>140.000000</td>\n",
       "      <td>52</td>\n",
       "      <td>18</td>\n",
       "      <td>53</td>\n",
       "      <td>39</td>\n",
       "      <td>140</td>\n",
       "      <td>PM25</td>\n",
       "      <td>TIDAK SEHAT</td>\n",
       "      <td>DKI5</td>\n",
       "      <td>3</td>\n",
       "      <td>False</td>\n",
       "    </tr>\n",
       "    <tr>\n",
       "      <th>29</th>\n",
       "      <td>2021-07-30</td>\n",
       "      <td>90</td>\n",
       "      <td>154.000000</td>\n",
       "      <td>54</td>\n",
       "      <td>15</td>\n",
       "      <td>81</td>\n",
       "      <td>35</td>\n",
       "      <td>154</td>\n",
       "      <td>PM25</td>\n",
       "      <td>TIDAK SEHAT</td>\n",
       "      <td>DKI4</td>\n",
       "      <td>4</td>\n",
       "      <td>False</td>\n",
       "    </tr>\n",
       "  </tbody>\n",
       "</table>\n",
       "</div>"
      ],
      "text/plain": [
       "      tanggal  pm10       pm2.5  so2  co   o3  no2  max critical     category  \\\n",
       "24 2021-01-25    62   96.646409   95  29   67  134  134       O3  TIDAK SEHAT   \n",
       "26 2021-04-27    75  138.000000   51  12   65   28  138     PM25  TIDAK SEHAT   \n",
       "6  2021-05-07    67   83.000000   61  26  151   45  151       O3  TIDAK SEHAT   \n",
       "19 2021-06-20    81  140.000000   66  26   44   58  140     PM25  TIDAK SEHAT   \n",
       "24 2021-06-25    85  147.000000   58  30   40   63  147     PM25  TIDAK SEHAT   \n",
       "2  2021-07-03    80  141.000000   54  13   44   27  141     PM25  TIDAK SEHAT   \n",
       "3  2021-07-04    94  161.000000   51  15   50   25  161     PM25  TIDAK SEHAT   \n",
       "4  2021-07-05    83  153.000000   56  13   62   26  153     PM25  TIDAK SEHAT   \n",
       "7  2021-07-08    83  145.000000   56  11   50   26  145     PM25  TIDAK SEHAT   \n",
       "8  2021-07-09    92  156.000000   59  11   56   26  156     PM25  TIDAK SEHAT   \n",
       "14 2021-07-15    95  174.000000   62  15   56   30  174     PM25  TIDAK SEHAT   \n",
       "15 2021-07-16    85  138.000000   53  11   53   29  138     PM25  TIDAK SEHAT   \n",
       "17 2021-07-18    82  150.000000   55  13   58   27  150     PM25  TIDAK SEHAT   \n",
       "18 2021-07-19    80  140.000000   51  11   77   28  140     PM25  TIDAK SEHAT   \n",
       "19 2021-07-20    86  147.000000   51  15   60   24  147     PM25  TIDAK SEHAT   \n",
       "24 2021-07-25    81  148.000000   55  24   54   42  148     PM25  TIDAK SEHAT   \n",
       "26 2021-07-27    82  140.000000   56  13   41   35  140     PM25  TIDAK SEHAT   \n",
       "27 2021-07-28    82  145.000000   53  18   40   45  145     PM25  TIDAK SEHAT   \n",
       "28 2021-07-29    78  140.000000   52  18   53   39  140     PM25  TIDAK SEHAT   \n",
       "29 2021-07-30    90  154.000000   54  15   81   35  154     PM25  TIDAK SEHAT   \n",
       "\n",
       "   location  dayweek  weekend  \n",
       "24     DKI2        0    False  \n",
       "26     DKI4        1    False  \n",
       "6      DKI3        4    False  \n",
       "19     DKI4        6     True  \n",
       "24     DKI4        4    False  \n",
       "2      DKI4        5    False  \n",
       "3      DKI4        6     True  \n",
       "4      DKI4        0    False  \n",
       "7      DKI4        3    False  \n",
       "8      DKI4        4    False  \n",
       "14     DKI4        3    False  \n",
       "15     DKI4        4    False  \n",
       "17     DKI4        6     True  \n",
       "18     DKI4        0    False  \n",
       "19     DKI4        1    False  \n",
       "24     DKI4        6     True  \n",
       "26     DKI4        1    False  \n",
       "27     DKI4        2    False  \n",
       "28     DKI5        3    False  \n",
       "29     DKI4        4    False  "
      ]
     },
     "execution_count": 32,
     "metadata": {},
     "output_type": "execute_result"
    }
   ],
   "source": [
    "df_temp = df.sort_values(by='max', ascending=False).head(20).sort_values(by='tanggal')\n",
    "\n",
    "df_temp['dayweek'] = df_temp.tanggal.dt.dayofweek\n",
    "\n",
    "df_temp['weekend'] = [True if x > 5 else False for x in df_temp.dayweek]\n",
    "\n",
    "df_temp"
   ]
  },
  {
   "cell_type": "code",
   "execution_count": 33,
   "metadata": {},
   "outputs": [
    {
     "data": {
      "text/plain": [
       "False    16\n",
       "True      4\n",
       "Name: weekend, dtype: int64"
      ]
     },
     "execution_count": 33,
     "metadata": {},
     "output_type": "execute_result"
    }
   ],
   "source": [
    "df_temp.weekend.value_counts()"
   ]
  },
  {
   "cell_type": "code",
   "execution_count": 34,
   "metadata": {},
   "outputs": [
    {
     "data": {
      "text/html": [
       "<div>\n",
       "<style scoped>\n",
       "    .dataframe tbody tr th:only-of-type {\n",
       "        vertical-align: middle;\n",
       "    }\n",
       "\n",
       "    .dataframe tbody tr th {\n",
       "        vertical-align: top;\n",
       "    }\n",
       "\n",
       "    .dataframe thead th {\n",
       "        text-align: right;\n",
       "    }\n",
       "</style>\n",
       "<table border=\"1\" class=\"dataframe\">\n",
       "  <thead>\n",
       "    <tr style=\"text-align: right;\">\n",
       "      <th></th>\n",
       "      <th>tanggal</th>\n",
       "      <th>pm10</th>\n",
       "      <th>pm2.5</th>\n",
       "      <th>so2</th>\n",
       "      <th>co</th>\n",
       "      <th>o3</th>\n",
       "      <th>no2</th>\n",
       "      <th>max</th>\n",
       "      <th>critical</th>\n",
       "      <th>category</th>\n",
       "      <th>location</th>\n",
       "      <th>dayweek</th>\n",
       "      <th>weekend</th>\n",
       "    </tr>\n",
       "  </thead>\n",
       "  <tbody>\n",
       "    <tr>\n",
       "      <th>9</th>\n",
       "      <td>2021-01-10</td>\n",
       "      <td>24</td>\n",
       "      <td>96.646409</td>\n",
       "      <td>39</td>\n",
       "      <td>16</td>\n",
       "      <td>38</td>\n",
       "      <td>59</td>\n",
       "      <td>59</td>\n",
       "      <td>O3</td>\n",
       "      <td>SEDANG</td>\n",
       "      <td>DKI2</td>\n",
       "      <td>6</td>\n",
       "      <td>True</td>\n",
       "    </tr>\n",
       "    <tr>\n",
       "      <th>18</th>\n",
       "      <td>2021-01-19</td>\n",
       "      <td>42</td>\n",
       "      <td>96.646409</td>\n",
       "      <td>56</td>\n",
       "      <td>19</td>\n",
       "      <td>35</td>\n",
       "      <td>58</td>\n",
       "      <td>58</td>\n",
       "      <td>O3</td>\n",
       "      <td>SEDANG</td>\n",
       "      <td>DKI2</td>\n",
       "      <td>1</td>\n",
       "      <td>False</td>\n",
       "    </tr>\n",
       "    <tr>\n",
       "      <th>27</th>\n",
       "      <td>2021-01-28</td>\n",
       "      <td>28</td>\n",
       "      <td>96.646409</td>\n",
       "      <td>49</td>\n",
       "      <td>25</td>\n",
       "      <td>28</td>\n",
       "      <td>53</td>\n",
       "      <td>53</td>\n",
       "      <td>O3</td>\n",
       "      <td>SEDANG</td>\n",
       "      <td>DKI2</td>\n",
       "      <td>3</td>\n",
       "      <td>False</td>\n",
       "    </tr>\n",
       "    <tr>\n",
       "      <th>2</th>\n",
       "      <td>2021-02-03</td>\n",
       "      <td>32</td>\n",
       "      <td>53.000000</td>\n",
       "      <td>40</td>\n",
       "      <td>11</td>\n",
       "      <td>42</td>\n",
       "      <td>19</td>\n",
       "      <td>53</td>\n",
       "      <td>PM25</td>\n",
       "      <td>SEDANG</td>\n",
       "      <td>DKI3</td>\n",
       "      <td>2</td>\n",
       "      <td>False</td>\n",
       "    </tr>\n",
       "    <tr>\n",
       "      <th>3</th>\n",
       "      <td>2021-02-04</td>\n",
       "      <td>36</td>\n",
       "      <td>59.000000</td>\n",
       "      <td>40</td>\n",
       "      <td>14</td>\n",
       "      <td>47</td>\n",
       "      <td>24</td>\n",
       "      <td>59</td>\n",
       "      <td>PM25</td>\n",
       "      <td>SEDANG</td>\n",
       "      <td>DKI5</td>\n",
       "      <td>3</td>\n",
       "      <td>False</td>\n",
       "    </tr>\n",
       "    <tr>\n",
       "      <th>4</th>\n",
       "      <td>2021-02-05</td>\n",
       "      <td>29</td>\n",
       "      <td>51.000000</td>\n",
       "      <td>40</td>\n",
       "      <td>14</td>\n",
       "      <td>45</td>\n",
       "      <td>35</td>\n",
       "      <td>51</td>\n",
       "      <td>PM25</td>\n",
       "      <td>SEDANG</td>\n",
       "      <td>DKI3</td>\n",
       "      <td>4</td>\n",
       "      <td>False</td>\n",
       "    </tr>\n",
       "    <tr>\n",
       "      <th>5</th>\n",
       "      <td>2021-02-06</td>\n",
       "      <td>34</td>\n",
       "      <td>53.000000</td>\n",
       "      <td>40</td>\n",
       "      <td>8</td>\n",
       "      <td>57</td>\n",
       "      <td>15</td>\n",
       "      <td>57</td>\n",
       "      <td>O3</td>\n",
       "      <td>SEDANG</td>\n",
       "      <td>DKI2</td>\n",
       "      <td>5</td>\n",
       "      <td>True</td>\n",
       "    </tr>\n",
       "    <tr>\n",
       "      <th>6</th>\n",
       "      <td>2021-02-07</td>\n",
       "      <td>33</td>\n",
       "      <td>55.000000</td>\n",
       "      <td>40</td>\n",
       "      <td>10</td>\n",
       "      <td>57</td>\n",
       "      <td>13</td>\n",
       "      <td>57</td>\n",
       "      <td>O3</td>\n",
       "      <td>SEDANG</td>\n",
       "      <td>DKI2</td>\n",
       "      <td>6</td>\n",
       "      <td>True</td>\n",
       "    </tr>\n",
       "    <tr>\n",
       "      <th>7</th>\n",
       "      <td>2021-02-08</td>\n",
       "      <td>26</td>\n",
       "      <td>44.000000</td>\n",
       "      <td>39</td>\n",
       "      <td>10</td>\n",
       "      <td>54</td>\n",
       "      <td>17</td>\n",
       "      <td>54</td>\n",
       "      <td>O3</td>\n",
       "      <td>SEDANG</td>\n",
       "      <td>DKI2</td>\n",
       "      <td>0</td>\n",
       "      <td>False</td>\n",
       "    </tr>\n",
       "    <tr>\n",
       "      <th>8</th>\n",
       "      <td>2021-02-09</td>\n",
       "      <td>33</td>\n",
       "      <td>57.000000</td>\n",
       "      <td>40</td>\n",
       "      <td>13</td>\n",
       "      <td>47</td>\n",
       "      <td>22</td>\n",
       "      <td>57</td>\n",
       "      <td>PM25</td>\n",
       "      <td>SEDANG</td>\n",
       "      <td>DKI4</td>\n",
       "      <td>1</td>\n",
       "      <td>False</td>\n",
       "    </tr>\n",
       "    <tr>\n",
       "      <th>10</th>\n",
       "      <td>2021-02-11</td>\n",
       "      <td>38</td>\n",
       "      <td>57.000000</td>\n",
       "      <td>43</td>\n",
       "      <td>13</td>\n",
       "      <td>35</td>\n",
       "      <td>17</td>\n",
       "      <td>57</td>\n",
       "      <td>PM25</td>\n",
       "      <td>SEDANG</td>\n",
       "      <td>DKI3</td>\n",
       "      <td>3</td>\n",
       "      <td>False</td>\n",
       "    </tr>\n",
       "    <tr>\n",
       "      <th>18</th>\n",
       "      <td>2021-02-19</td>\n",
       "      <td>32</td>\n",
       "      <td>52.000000</td>\n",
       "      <td>42</td>\n",
       "      <td>20</td>\n",
       "      <td>41</td>\n",
       "      <td>33</td>\n",
       "      <td>52</td>\n",
       "      <td>PM25</td>\n",
       "      <td>SEDANG</td>\n",
       "      <td>DKI5</td>\n",
       "      <td>4</td>\n",
       "      <td>False</td>\n",
       "    </tr>\n",
       "    <tr>\n",
       "      <th>20</th>\n",
       "      <td>2021-02-21</td>\n",
       "      <td>36</td>\n",
       "      <td>52.000000</td>\n",
       "      <td>39</td>\n",
       "      <td>10</td>\n",
       "      <td>48</td>\n",
       "      <td>17</td>\n",
       "      <td>52</td>\n",
       "      <td>PM25</td>\n",
       "      <td>SEDANG</td>\n",
       "      <td>DKI5</td>\n",
       "      <td>6</td>\n",
       "      <td>True</td>\n",
       "    </tr>\n",
       "    <tr>\n",
       "      <th>24</th>\n",
       "      <td>2021-02-25</td>\n",
       "      <td>31</td>\n",
       "      <td>54.000000</td>\n",
       "      <td>43</td>\n",
       "      <td>12</td>\n",
       "      <td>45</td>\n",
       "      <td>23</td>\n",
       "      <td>54</td>\n",
       "      <td>PM25</td>\n",
       "      <td>SEDANG</td>\n",
       "      <td>DKI3</td>\n",
       "      <td>3</td>\n",
       "      <td>False</td>\n",
       "    </tr>\n",
       "    <tr>\n",
       "      <th>10</th>\n",
       "      <td>2021-03-11</td>\n",
       "      <td>38</td>\n",
       "      <td>53.000000</td>\n",
       "      <td>39</td>\n",
       "      <td>9</td>\n",
       "      <td>43</td>\n",
       "      <td>21</td>\n",
       "      <td>53</td>\n",
       "      <td>PM25</td>\n",
       "      <td>SEDANG</td>\n",
       "      <td>DKI4</td>\n",
       "      <td>3</td>\n",
       "      <td>False</td>\n",
       "    </tr>\n",
       "    <tr>\n",
       "      <th>0</th>\n",
       "      <td>2021-04-01</td>\n",
       "      <td>28</td>\n",
       "      <td>52.000000</td>\n",
       "      <td>41</td>\n",
       "      <td>11</td>\n",
       "      <td>43</td>\n",
       "      <td>19</td>\n",
       "      <td>52</td>\n",
       "      <td>PM25</td>\n",
       "      <td>SEDANG</td>\n",
       "      <td>DKI3</td>\n",
       "      <td>3</td>\n",
       "      <td>False</td>\n",
       "    </tr>\n",
       "    <tr>\n",
       "      <th>5</th>\n",
       "      <td>2021-04-06</td>\n",
       "      <td>43</td>\n",
       "      <td>61.000000</td>\n",
       "      <td>43</td>\n",
       "      <td>10</td>\n",
       "      <td>36</td>\n",
       "      <td>18</td>\n",
       "      <td>61</td>\n",
       "      <td>PM25</td>\n",
       "      <td>SEDANG</td>\n",
       "      <td>DKI2</td>\n",
       "      <td>1</td>\n",
       "      <td>False</td>\n",
       "    </tr>\n",
       "    <tr>\n",
       "      <th>6</th>\n",
       "      <td>2021-04-07</td>\n",
       "      <td>30</td>\n",
       "      <td>52.000000</td>\n",
       "      <td>42</td>\n",
       "      <td>11</td>\n",
       "      <td>43</td>\n",
       "      <td>19</td>\n",
       "      <td>52</td>\n",
       "      <td>PM25</td>\n",
       "      <td>SEDANG</td>\n",
       "      <td>DKI2</td>\n",
       "      <td>2</td>\n",
       "      <td>False</td>\n",
       "    </tr>\n",
       "    <tr>\n",
       "      <th>7</th>\n",
       "      <td>2021-04-08</td>\n",
       "      <td>39</td>\n",
       "      <td>57.000000</td>\n",
       "      <td>51</td>\n",
       "      <td>12</td>\n",
       "      <td>40</td>\n",
       "      <td>22</td>\n",
       "      <td>57</td>\n",
       "      <td>PM25</td>\n",
       "      <td>SEDANG</td>\n",
       "      <td>DKI2</td>\n",
       "      <td>3</td>\n",
       "      <td>False</td>\n",
       "    </tr>\n",
       "    <tr>\n",
       "      <th>17</th>\n",
       "      <td>2021-05-18</td>\n",
       "      <td>41</td>\n",
       "      <td>58.000000</td>\n",
       "      <td>48</td>\n",
       "      <td>10</td>\n",
       "      <td>49</td>\n",
       "      <td>26</td>\n",
       "      <td>58</td>\n",
       "      <td>PM25</td>\n",
       "      <td>SEDANG</td>\n",
       "      <td>DKI3</td>\n",
       "      <td>1</td>\n",
       "      <td>False</td>\n",
       "    </tr>\n",
       "  </tbody>\n",
       "</table>\n",
       "</div>"
      ],
      "text/plain": [
       "      tanggal  pm10      pm2.5  so2  co  o3  no2  max critical category  \\\n",
       "9  2021-01-10    24  96.646409   39  16  38   59   59       O3   SEDANG   \n",
       "18 2021-01-19    42  96.646409   56  19  35   58   58       O3   SEDANG   \n",
       "27 2021-01-28    28  96.646409   49  25  28   53   53       O3   SEDANG   \n",
       "2  2021-02-03    32  53.000000   40  11  42   19   53     PM25   SEDANG   \n",
       "3  2021-02-04    36  59.000000   40  14  47   24   59     PM25   SEDANG   \n",
       "4  2021-02-05    29  51.000000   40  14  45   35   51     PM25   SEDANG   \n",
       "5  2021-02-06    34  53.000000   40   8  57   15   57       O3   SEDANG   \n",
       "6  2021-02-07    33  55.000000   40  10  57   13   57       O3   SEDANG   \n",
       "7  2021-02-08    26  44.000000   39  10  54   17   54       O3   SEDANG   \n",
       "8  2021-02-09    33  57.000000   40  13  47   22   57     PM25   SEDANG   \n",
       "10 2021-02-11    38  57.000000   43  13  35   17   57     PM25   SEDANG   \n",
       "18 2021-02-19    32  52.000000   42  20  41   33   52     PM25   SEDANG   \n",
       "20 2021-02-21    36  52.000000   39  10  48   17   52     PM25   SEDANG   \n",
       "24 2021-02-25    31  54.000000   43  12  45   23   54     PM25   SEDANG   \n",
       "10 2021-03-11    38  53.000000   39   9  43   21   53     PM25   SEDANG   \n",
       "0  2021-04-01    28  52.000000   41  11  43   19   52     PM25   SEDANG   \n",
       "5  2021-04-06    43  61.000000   43  10  36   18   61     PM25   SEDANG   \n",
       "6  2021-04-07    30  52.000000   42  11  43   19   52     PM25   SEDANG   \n",
       "7  2021-04-08    39  57.000000   51  12  40   22   57     PM25   SEDANG   \n",
       "17 2021-05-18    41  58.000000   48  10  49   26   58     PM25   SEDANG   \n",
       "\n",
       "   location  dayweek  weekend  \n",
       "9      DKI2        6     True  \n",
       "18     DKI2        1    False  \n",
       "27     DKI2        3    False  \n",
       "2      DKI3        2    False  \n",
       "3      DKI5        3    False  \n",
       "4      DKI3        4    False  \n",
       "5      DKI2        5     True  \n",
       "6      DKI2        6     True  \n",
       "7      DKI2        0    False  \n",
       "8      DKI4        1    False  \n",
       "10     DKI3        3    False  \n",
       "18     DKI5        4    False  \n",
       "20     DKI5        6     True  \n",
       "24     DKI3        3    False  \n",
       "10     DKI4        3    False  \n",
       "0      DKI3        3    False  \n",
       "5      DKI2        1    False  \n",
       "6      DKI2        2    False  \n",
       "7      DKI2        3    False  \n",
       "17     DKI3        1    False  "
      ]
     },
     "execution_count": 34,
     "metadata": {},
     "output_type": "execute_result"
    }
   ],
   "source": [
    "df_temp = df.sort_values(by='max', ascending=False).tail(20).sort_values(by='tanggal')\n",
    "\n",
    "df_temp['dayweek'] = df_temp.tanggal.dt.dayofweek\n",
    "\n",
    "df_temp['weekend'] = [True if x > 4 else False for x in df_temp['dayweek']]\n",
    "\n",
    "df_temp"
   ]
  },
  {
   "cell_type": "code",
   "execution_count": 39,
   "metadata": {},
   "outputs": [
    {
     "data": {
      "text/plain": [
       "False    16\n",
       "True      4\n",
       "Name: weekend, dtype: int64"
      ]
     },
     "execution_count": 39,
     "metadata": {},
     "output_type": "execute_result"
    }
   ],
   "source": [
    "df_temp.weekend.value_counts()"
   ]
  },
  {
   "cell_type": "markdown",
   "metadata": {},
   "source": [
    "#### Sampling weekend"
   ]
  },
  {
   "cell_type": "code",
   "execution_count": 40,
   "metadata": {},
   "outputs": [],
   "source": [
    "df['dayweek'] = df.tanggal.dt.dayofweek\n",
    "\n",
    "df['weekend'] = [True if x > 4 else False for x in df['dayweek']]"
   ]
  },
  {
   "cell_type": "code",
   "execution_count": 41,
   "metadata": {},
   "outputs": [],
   "source": [
    "tidak_sehat_sample = pd.DataFrame()\n",
    "\n",
    "for i in range(20):\n",
    "    tidak_sehat_sample = tidak_sehat_sample.append(df[df.category == 'TIDAK SEHAT'].sample(50))"
   ]
  },
  {
   "cell_type": "code",
   "execution_count": 42,
   "metadata": {},
   "outputs": [
    {
     "data": {
      "text/plain": [
       "False    686\n",
       "True     314\n",
       "Name: weekend, dtype: int64"
      ]
     },
     "execution_count": 42,
     "metadata": {},
     "output_type": "execute_result"
    }
   ],
   "source": [
    "tidak_sehat_sample.weekend.value_counts()"
   ]
  },
  {
   "cell_type": "markdown",
   "metadata": {},
   "source": [
    "#### Kesimpulan\n",
    "\n",
    "1. Cemaran PM10 & PM25 cenderung meningkat dari Januari hingga Juli 2021. Tren menurun cenderung terjadi pada pertengahan bulan dan menjelang pergantian bulan \n",
    "\n",
    "2. Kenaikan tinggi cemaran SO2 hingga 125 µg/m3 terjadi pada minggu ke-3 Januari 2021 dan menurun drastis. Pada minggu ke-4 Januari 2021 hingga dibawah 40 µg/m3. Pada bulan-bulan berikutnya kenaikan cemaran SO2 tidak terlalu signifikan\n",
    "\n",
    "3. Cemaran CO mengalami kenaikan hingga mencapai angka 47 µg/m3 minggu ke-3 Januari 2021.Penurunan terjadi pada Februari 2021 hingga dibawah 10 µg/m3. Pada bulan-bulan berikutnya terjadi naik dan turun di rentang 10 µg/m3 hingga 30 µg/m3  \n",
    "\n",
    "4. Cemaran O3 tertinggi pada minggu ke-1 Mei 2021 pada angka 145 µg/m3. Selebihnya angka \n",
    "naik dan turun stabil pada rentang 20 µg/m3 hingga 60 µg/m3\n",
    "\n",
    "5. Kenaikan hingga angka 130 µg/m3 terjadi pada cemaran NO2 di minggu ke-3 Januari 2021 dan kembali turun ke kisaran angka 20 µg/m3 pada awal Februari 2021. Pada bulan-bulan berikutnya naik dan turun pada rentang 15 µg/m3 hingga 60 µg/m3\n",
    "\n",
    "6. Dalam rentang waktu observasi terdapat 61,61% kategori cemaran sehat dan 38,39% tidak sehat. Dari angka kategori tidak sehat, 47,39% berasal dari DKI4, 22,275% DKI3, 18,48% DKI2 dan 11,85% DKI5\n",
    "\n",
    "7. Dengan mengambil 50 item sample data dengan kategori 'TIDAK SEHAT' dan iterasi sebanyak 20 \n",
    "pada tiap sample, didapatkan 686 (68,6%) bukan weekend dan 314 (31,4%) adalah weekend "
   ]
  }
 ],
 "metadata": {
  "interpreter": {
   "hash": "69bd05188d8e1a6303668afdba3e42a2c11231d2bb333df425bbee993fd0d7a1"
  },
  "kernelspec": {
   "display_name": "Python 3.7.9 64-bit",
   "name": "python3"
  },
  "language_info": {
   "codemirror_mode": {
    "name": "ipython",
    "version": 3
   },
   "file_extension": ".py",
   "mimetype": "text/x-python",
   "name": "python",
   "nbconvert_exporter": "python",
   "pygments_lexer": "ipython3",
   "version": "3.7.9"
  },
  "orig_nbformat": 4
 },
 "nbformat": 4,
 "nbformat_minor": 2
}
